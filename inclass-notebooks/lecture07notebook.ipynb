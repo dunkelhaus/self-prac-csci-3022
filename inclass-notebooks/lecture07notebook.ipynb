{
 "cells": [
  {
   "cell_type": "markdown",
   "metadata": {},
   "source": [
    "# Lecture 7: Discrete Random Variables and Distributions \n",
    "***\n",
    "\n",
    "In this notebook we'll get some more practice with discrete random variables and see how we can play with binomial distributions using Python.   \n",
    "\n",
    "We'll need Numpy and Matplotlib for this notebook, so let's load them.  We'll also need SciPy's binom function for computing binomial coefficients.  "
   ]
  },
  {
   "cell_type": "code",
   "execution_count": 35,
   "metadata": {},
   "outputs": [],
   "source": [
    "import numpy as np \n",
    "import pandas as pd\n",
    "import matplotlib.pylab as plt \n",
    "from scipy.special import binom\n",
    "%matplotlib inline"
   ]
  },
  {
   "cell_type": "markdown",
   "metadata": {},
   "source": [
    "### Exercise 1 - Loaded Dice \n",
    "*** \n",
    "\n",
    "Consider a loaded six-sided die.  \n",
    "\n",
    "**Part A**: Suppose that the die is loaded such that you are twice as likely to roll either a $1$, $2$, or $3$, than you are to roll either a $4$, $5$, or $6$. Let $X$ be a random variable describing the die.  What is the probability mass function for $X$? "
   ]
  },
  {
   "cell_type": "markdown",
   "metadata": {
    "jupyter": {
     "outputs_hidden": true
    }
   },
   "source": [
    "lets say 1, 2, 3, each have 2 parts in prob\n",
    "4, 5, 6 each have 1 part in prob\n",
    "\n",
    "total is 9/9\n",
    "\n",
    "while x is b/w 1 and 3, pmf gives 2/9\n",
    "for the other 3, it gives 1/9"
   ]
  },
  {
   "cell_type": "markdown",
   "metadata": {},
   "source": [
    "**Part B**: Find the cumulative distribution function for $X$.  What is the probability that you roll a $4$ or lower with the loaded die? "
   ]
  },
  {
   "cell_type": "markdown",
   "metadata": {
    "jupyter": {
     "outputs_hidden": true
    }
   },
   "source": [
    "cdf here would just sum the last, so would be:\n",
    "    \n",
    "2/9, 4/9, 6/9, 7/9, 8/9, 9/9\n",
    "\n",
    "prob of rolling 4 or lower is 7/9, from cdf"
   ]
  },
  {
   "cell_type": "markdown",
   "metadata": {},
   "source": [
    "### Exercise 2 - Implementing and Sampling the Binomial Distribution \n",
    "***\n",
    "\n",
    "**Part A**: Write a function that takes in the parameters of the binomial distribution, $n$ and $p$, and returns the probability mass function as a Numpy array. In order to get the coefficient in the binomial distribution, you'll need a way to compute ${n \\choose k}$.  You can do this from scratch using Python's factorial function, or you can get the value directly using Scipy's canned function [binom](https://docs.scipy.org/doc/scipy-0.14.0/reference/generated/scipy.special.binom.html).  "
   ]
  },
  {
   "cell_type": "code",
   "execution_count": 48,
   "metadata": {},
   "outputs": [],
   "source": [
    "def binomial_pmf(n, p):\n",
    "    pmf = np.zeros(n + 1)\n",
    "    \n",
    "    for k in range(0, n + 1):\n",
    "        not_p_k = (1 - p) ** (n - k)\n",
    "        p_k = p ** k\n",
    "        n_c_k = binom(n, k)\n",
    "        \n",
    "        pmf[k] = not_p_k * p_k * n_c_k\n",
    "    \n",
    "    return pmf"
   ]
  },
  {
   "cell_type": "code",
   "execution_count": 49,
   "metadata": {},
   "outputs": [],
   "source": [
    "def print_dist(pmf):\n",
    "    print(\" k | p(k)\")\n",
    "    print(\"-----------\")\n",
    "    for k, prob in enumerate(pmf):\n",
    "        print(\"{:2d} | {:.4f}\".format(k, prob))"
   ]
  },
  {
   "cell_type": "code",
   "execution_count": 50,
   "metadata": {},
   "outputs": [
    {
     "name": "stdout",
     "output_type": "stream",
     "text": [
      " k | p(k)\n",
      "-----------\n",
      " 0 | 0.0010\n",
      " 1 | 0.0098\n",
      " 2 | 0.0439\n",
      " 3 | 0.1172\n",
      " 4 | 0.2051\n",
      " 5 | 0.2461\n",
      " 6 | 0.2051\n",
      " 7 | 0.1172\n",
      " 8 | 0.0439\n",
      " 9 | 0.0098\n",
      "10 | 0.0010\n"
     ]
    }
   ],
   "source": [
    "print_dist(binomial_pmf(10, 0.5))"
   ]
  },
  {
   "cell_type": "markdown",
   "metadata": {},
   "source": [
    "**Part B**: So now you know the exact distribution of a binomial random variable, but very frequently we'll want to generate samples from that distribution.  You can do that with Numpy's [binomial](https://docs.scipy.org/doc/numpy-1.13.0/reference/generated/numpy.random.binomial.html) function. Read the documentation, and then try drawing 20 samples from _Bin(n,p)_ for $n=10$ and $p=0.25$.  "
   ]
  },
  {
   "cell_type": "code",
   "execution_count": 51,
   "metadata": {},
   "outputs": [
    {
     "data": {
      "text/plain": [
       "array([6, 5, 7, 5, 4, 4, 7, 5, 6, 5])"
      ]
     },
     "execution_count": 51,
     "metadata": {},
     "output_type": "execute_result"
    }
   ],
   "source": [
    "np.random.binomial(n=10, p=0.5, size=10)"
   ]
  },
  {
   "cell_type": "markdown",
   "metadata": {},
   "source": [
    "**Part C**: We can approximate the pmf of _Bin(n,p)_ by drawing many many samples from the distribution and plotting a **density** histogram.  Do this now.  Additionally, use the function you wrote in **Part A** to get the exact density, and plot the distribution directly below the histogram of your sampled distribution.  How do they compare?  What happens if you use more or fewer samples in the histogram? "
   ]
  },
  {
   "cell_type": "code",
   "execution_count": 52,
   "metadata": {},
   "outputs": [],
   "source": [
    "def sampling_vs_pmf(n, p, sample_size):    \n",
    "\n",
    "    fig, axes = plt.subplots(nrows=2, ncols=1, figsize=(8,10))\n",
    "\n",
    "    # Plot histogram of samples \n",
    "    df = pd.DataFrame(np.random.binomial(n, p, sample_size))\n",
    "    df.hist(ax=axes[0], bins=[ii-.5 for ii in range(11+1)], rwidth=0.8, density=True, color=\"steelblue\")\n",
    "    axes[0].set_ylabel('Density', fontsize=16)\n",
    "    axes[0].set_xlabel(r'$X$', fontsize=16)\n",
    "    axes[0].set_ylim([0,0.40])\n",
    "    axes[0].set_title(\"Density Histogram of Bin(10,0.25) Samples\", fontsize=16)\n",
    "    axes[0].grid(alpha=0.25)\n",
    "    axes[0].set_axisbelow(True)\n",
    "    axes[0].set_xticks(list(range(0,11)))\n",
    "\n",
    "    # Plot the exact pmf of the binomial distribution \n",
    "    X = np.array(range(0,10+1))\n",
    "    pmf = binomial_pmf(10, .25)\n",
    "    axes[1].bar(X, pmf, color=\"steelblue\")\n",
    "    axes[1].set_ylim([0,0.40])\n",
    "    axes[1].set_ylabel('PMF', fontsize=16)\n",
    "    axes[1].set_xlabel(r'$X$', fontsize=16)\n",
    "    axes[1].set_title(\"Probability Mass Function for Bin(10,0.25)\", fontsize=16)\n",
    "    axes[1].grid(alpha=0.25)\n",
    "    axes[1].set_axisbelow(True)\n",
    "    axes[1].set_xticks(list(range(0,11)));"
   ]
  },
  {
   "cell_type": "code",
   "execution_count": 53,
   "metadata": {},
   "outputs": [
    {
     "data": {
      "image/png": "[encoded data removed]",
      "text/plain": [
       "<Figure size 576x720 with 2 Axes>"
      ]
     },
     "metadata": {
      "needs_background": "light"
     },
     "output_type": "display_data"
    }
   ],
   "source": [
    "sampling_vs_pmf(10, 0.25, 100)"
   ]
  },
  {
   "cell_type": "markdown",
   "metadata": {},
   "source": [
    "### Exercise 3 - Predicting Play-off Winners \n",
    "***\n",
    "\n",
    "In this exercise we'll look at the probability of your favorite sports team winning a best-of-7 play-off series. Suppose your team is the slight favorite in the series and in each individual game has a probability of winning of $p = 0.55$. \n",
    "\n",
    "**Part A**: What is the probability that your team wins the series? "
   ]
  },
  {
   "cell_type": "code",
   "execution_count": null,
   "metadata": {
    "collapsed": true,
    "jupyter": {
     "outputs_hidden": true
    }
   },
   "outputs": [],
   "source": []
  },
  {
   "cell_type": "markdown",
   "metadata": {},
   "source": [
    "**Part B**: How often will a 45%-to-55% underdog win a best-of-7 series?  Is an underdog more likely to win a series if it's shorter, say best-of-5 or best-of-3? "
   ]
  },
  {
   "cell_type": "code",
   "execution_count": null,
   "metadata": {
    "collapsed": true,
    "jupyter": {
     "outputs_hidden": true
    }
   },
   "outputs": [],
   "source": []
  },
  {
   "cell_type": "markdown",
   "metadata": {},
   "source": [
    "This example is not particularly realistic because it does not consider home-field advantage.  Typically teams will play better (and thus have a higher probability of winning) when they play at their home field.  Suppose that your team hosts Games 1, 2, 6, and 7 at home, and plays away in Games 3, 4, and 5.  Suppose that when your team plays at home, they win with probability $p = 0.6$ and when they're on the road they win with only probability $q=0.5$.  \n",
    "\n",
    "**Part C**: Is the probability that your team wins $k$ of the $n$ games still well-described by a binomial distribution?  Why or why not? "
   ]
  },
  {
   "cell_type": "code",
   "execution_count": null,
   "metadata": {
    "collapsed": true,
    "jupyter": {
     "outputs_hidden": true
    }
   },
   "outputs": [],
   "source": []
  },
  {
   "cell_type": "markdown",
   "metadata": {},
   "source": [
    "**Part D**: What is the probability that your team wins the 7-game series under the above conditions? "
   ]
  },
  {
   "cell_type": "code",
   "execution_count": null,
   "metadata": {
    "collapsed": true,
    "jupyter": {
     "outputs_hidden": true
    }
   },
   "outputs": [],
   "source": []
  },
  {
   "cell_type": "markdown",
   "metadata": {},
   "source": [
    "**Part E**: Now suppose that the teams are evenly matched in the sense that your team wins with probability $p=0.55$ when playing at home and wins with only probability $q = (1-p) = 0.45$ when playing away.  How much of a difference does home-field advantage make? "
   ]
  },
  {
   "cell_type": "code",
   "execution_count": null,
   "metadata": {
    "collapsed": true,
    "jupyter": {
     "outputs_hidden": true
    }
   },
   "outputs": [],
   "source": []
  }
 ],
 "metadata": {
  "kernelspec": {
   "display_name": "Python 3",
   "language": "python",
   "name": "python3"
  },
  "language_info": {
   "codemirror_mode": {
    "name": "ipython",
    "version": 3
   },
   "file_extension": ".py",
   "mimetype": "text/x-python",
   "name": "python",
   "nbconvert_exporter": "python",
   "pygments_lexer": "ipython3",
   "version": "3.7.7"
  }
 },
 "nbformat": 4,
 "nbformat_minor": 4
}
